{
 "cells": [
  {
   "cell_type": "markdown",
   "metadata": {},
   "source": [
    "# Binary Ring-LWE"
   ]
  },
  {
   "cell_type": "markdown",
   "metadata": {},
   "source": [
    "Defining the RING-LWE parameters and Quotient Ring $\\frac{Z_{q}[x]}{x^n + 1}$"
   ]
  },
  {
   "cell_type": "code",
   "execution_count": 1,
   "metadata": {},
   "outputs": [],
   "source": [
    "n = 256\n",
    "q = 256\n",
    "\n",
    "R = PolynomialRing(Integers(q),\"y\")\n",
    "x = R.gen()\n",
    "S = R.quotient(x^n + 1, 'x')\n",
    "w = S.gen()"
   ]
  },
  {
   "cell_type": "markdown",
   "metadata": {},
   "source": [
    "Code to generate small polynomials $p = \\sum^{n - 1}_{i=0} p_i.x^{i}$ where $p_i\\in[-r, r]$"
   ]
  },
  {
   "cell_type": "code",
   "execution_count": 2,
   "metadata": {},
   "outputs": [],
   "source": [
    "def smallPolynomial(times):\n",
    "    ans = 0 \n",
    "    for i in range(n):\n",
    "        bit = randint(0, 1)\n",
    "        ans += w^i*bit\n",
    "    \n",
    "    return ans\n",
    "\n",
    "#print(smallPolynomial(8))"
   ]
  },
  {
   "cell_type": "markdown",
   "metadata": {},
   "source": [
    "### First example on Ring-LWE "
   ]
  },
  {
   "cell_type": "code",
   "execution_count": null,
   "metadata": {},
   "outputs": [],
   "source": [
    "for p in range(49, 61):\n",
    "    percentage = float(p)/100\n",
    "    #print(percentage)\n",
    "    counter = 0 \n",
    "    for exp in range(10):\n",
    "\n",
    "        \n",
    "        a = S.random_element()\n",
    "        s = smallPolynomial(r)\n",
    "        e = smallPolynomial(r)\n",
    "\n",
    "        b = a*s + e\n",
    "\n",
    "        #print(\"b:\", b)\n",
    "        #print(\"-----------------------------------------------------------------------------------------------------------------\")\n",
    "        #print(\"a:\", a)\n",
    "        #print(\"-----------------------------------------------------------------------------------------------------------------\")\n",
    "        #print(\"s:\", s)\n",
    "        #print(\"e:\", e)\n",
    "        coefficientsS = {}\n",
    "        coefficientsE = {}\n",
    "\n",
    "        while len(coefficientsS) + len(coefficientsE) < int(percentage*(2*n)):\n",
    "            rand = randint(0, 2*n - 1)\n",
    "            \n",
    "            if rand < n: \n",
    "                coefficientsS[rand] = True\n",
    "                \n",
    "            else: \n",
    "                rand = rand % n\n",
    "                \n",
    "                coefficientsE[rand] = True\n",
    "                \n",
    "        #print(len(coefficientsS), \" - \", len(coefficientsE), \"=\" ,len(coefficientsS) + len(coefficientsE))\n",
    "        \n",
    "        MatrixA = []\n",
    "        Y = []\n",
    "        for i in range(n):\n",
    "            aux = a*w^(n - i - 1)\n",
    "            if i in coefficientsE:      \n",
    "                vetorA = [aux[n - j - 1] for j in range(n)]\n",
    "                MatrixA.append(list(vetorA))   \n",
    "                \n",
    "                Y.append(b[i] - e[i])\n",
    "\n",
    "        MMatrixA = []\n",
    "\n",
    "        for (i, row) in enumerate(MatrixA):  \n",
    "            newRow = []\n",
    "            _sum = 0\n",
    "            for j in range(n):\n",
    "                if j in coefficientsS: \n",
    "                    _sum += s[j]*row[j]\n",
    "                else: \n",
    "                    newRow.append(row[j])\n",
    "            MMatrixA.append(list(newRow))\n",
    "            Y[i] -= _sum\n",
    "            \n",
    "        # Guassian Elimination's method\n",
    "\n",
    "        MA = matrix(GF(q), MMatrixA[::-1])\n",
    "\n",
    "        Z = MA.solve_right(vector(GF(q), Y[::-1]))\n",
    "        \n",
    "        newS = 0\n",
    "        idx = 0\n",
    "        for i in range(n):\n",
    "            if i in coefficientsS:\n",
    "                newS += s[i]*w^i\n",
    "                \n",
    "            else:\n",
    "                newS +=(Integer(Z[idx]))*w^i                \n",
    "                \n",
    "                idx += 1\n",
    "                \n",
    "        if newS == s: \n",
    "            counter += 1 \n",
    "            \n",
    "        #print(exp, \" -> \", len(MMatrixA), \"equations and \",len(MMatrixA[0]), \"variables  ==>\", newS == s)    \n",
    "        \n",
    "    print(percentage, \"Recovered keys:\", counter)     \n",
    "        "
   ]
  }
 ],
 "metadata": {
  "kernelspec": {
   "display_name": "SageMath 9.0",
   "language": "sage",
   "name": "sagemath"
  },
  "language_info": {
   "codemirror_mode": {
    "name": "ipython",
    "version": 3
   },
   "file_extension": ".py",
   "mimetype": "text/x-python",
   "name": "python",
   "nbconvert_exporter": "python",
   "pygments_lexer": "ipython3",
   "version": "3.8.10"
  }
 },
 "nbformat": 4,
 "nbformat_minor": 1
}
