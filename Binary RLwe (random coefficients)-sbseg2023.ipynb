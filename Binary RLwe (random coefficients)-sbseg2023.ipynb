{
 "cells": [
  {
   "cell_type": "markdown",
   "metadata": {},
   "source": [
    "# Recovering the Secret on Binary Ring-LWE problem with Random Known bits"
   ]
  },
  {
   "cell_type": "markdown",
   "metadata": {},
   "source": [
    "Defining the Binary RING-LWE parameters and Quotient Ring $\\frac{Z_{q}[x]}{x^n + 1}$"
   ]
  },
  {
   "cell_type": "code",
   "execution_count": 1,
   "metadata": {},
   "outputs": [],
   "source": [
    "n = 256\n",
    "q = 256\n",
    "\n",
    "R = PolynomialRing(Integers(q),\"y\")\n",
    "x = R.gen()\n",
    "S = R.quotient(x^n + 1, 'x')\n",
    "w = S.gen()"
   ]
  },
  {
   "cell_type": "markdown",
   "metadata": {},
   "source": [
    "Code to generate small polynomials $p = \\sum^{n - 1}_{i=0} p_i.x^{i}$ where $p_i\\in[0, 1]$"
   ]
  },
  {
   "cell_type": "code",
   "execution_count": 3,
   "metadata": {},
   "outputs": [],
   "source": [
    "def smallPolynomial(times):\n",
    "    ans = 0 \n",
    "    for i in range(n):\n",
    "        bit = randint(0, 1)\n",
    "        ans += w^i*bit\n",
    "    \n",
    "    return ans\n",
    "\n",
    "#print(smallPolynomial(8))"
   ]
  },
  {
   "cell_type": "markdown",
   "metadata": {},
   "source": [
    "### Experiments \n",
    "for each $\\alpha\\in [49, 60] \\%$ (percentage), 1000 secret key are generated; \n",
    "for each secret key, 1000 experiments are generated with a $\\alpha \\%$ random bits of ${\\bf s}$ and ${\\bf e}$."
   ]
  },
  {
   "cell_type": "code",
   "execution_count": 5,
   "metadata": {},
   "outputs": [
    {
     "name": "stdout",
     "output_type": "stream",
     "text": [
      "0.49 Recovered keys: 0\n",
      "0.5 Recovered keys: 1000000\n",
      "0.51 Recovered keys: 1000000\n",
      "0.52 Recovered keys: 1000000\n",
      "0.53 Recovered keys: 1000000\n",
      "0.54 Recovered keys: 1000000\n",
      "0.55 Recovered keys: 1000000\n",
      "0.56 Recovered keys: 1000000\n",
      "0.57 Recovered keys: 1000000\n",
      "0.58 Recovered keys: 1000000\n",
      "0.59 Recovered keys: 1000000\n",
      "0.6 Recovered keys: 1000000\n"
     ]
    }
   ],
   "source": [
    "for p in range(49, 61):\n",
    "    percentage = float(p)/100\n",
    "    #print(percentage)\n",
    "    counter = 0 \n",
    "    \n",
    "    for exp in range(1000):        \n",
    "        a = S.random_element()\n",
    "        s = smallPolynomial(r)\n",
    "        e = smallPolynomial(r)\n",
    "\n",
    "        b = a*s + e\n",
    "\n",
    "        #print(\"b:\", b)\n",
    "        #print(\"-----------------------------------------------------------------------------------------------------------------\")\n",
    "        #print(\"a:\", a)\n",
    "        #print(\"-----------------------------------------------------------------------------------------------------------------\")\n",
    "        #print(\"s:\", s)\n",
    "        #print(\"e:\", e)\n",
    "        \n",
    "        for _ in range(1000):\n",
    "            coefficientsS = {}\n",
    "            coefficientsE = {}\n",
    "\n",
    "            while len(coefficientsS) + len(coefficientsE) < int(percentage*(2*n)):\n",
    "                rand = randint(0, 2*n - 1)\n",
    "\n",
    "                if rand < n: \n",
    "                    coefficientsS[rand] = True\n",
    "\n",
    "                else: \n",
    "                    rand = rand % n\n",
    "\n",
    "                    coefficientsE[rand] = True\n",
    "\n",
    "            #print(len(coefficientsS), \" - \", len(coefficientsE), \"=\" ,len(coefficientsS) + len(coefficientsE))\n",
    "\n",
    "            MatrixA = []\n",
    "            Y = []\n",
    "            for i in range(n):\n",
    "                aux = a*w^(n - i - 1)\n",
    "                if i in coefficientsE:      \n",
    "                    vetorA = [aux[n - j - 1] for j in range(n)]\n",
    "                    MatrixA.append(list(vetorA))   \n",
    "\n",
    "                    Y.append(b[i] - e[i])\n",
    "\n",
    "            MMatrixA = []\n",
    "\n",
    "            for (i, row) in enumerate(MatrixA):  \n",
    "                newRow = []\n",
    "                _sum = 0\n",
    "                for j in range(n):\n",
    "                    if j in coefficientsS: \n",
    "                        _sum += s[j]*row[j]\n",
    "                    else: \n",
    "                        newRow.append(row[j])\n",
    "                MMatrixA.append(list(newRow))\n",
    "                Y[i] -= _sum\n",
    "\n",
    "            # Guassian Elimination's method\n",
    "\n",
    "            MA = matrix(GF(q), MMatrixA[::-1])\n",
    "\n",
    "            Z = MA.solve_right(vector(GF(q), Y[::-1]))\n",
    "\n",
    "            newS = 0\n",
    "            idx = 0\n",
    "            for i in range(n):\n",
    "                if i in coefficientsS:\n",
    "                    newS += s[i]*w^i\n",
    "\n",
    "                else:\n",
    "                    newS +=(Integer(Z[idx]))*w^i                \n",
    "\n",
    "                    idx += 1\n",
    "\n",
    "            if newS == s: \n",
    "                counter += 1 \n",
    "\n",
    "        #print(exp, \" -> \", len(MMatrixA), \"equations and \",len(MMatrixA[0]), \"variables  ==>\", newS == s)    \n",
    "        \n",
    "    print(percentage, \"Recovered keys:\", counter)     \n",
    "        "
   ]
  }
 ],
 "metadata": {
  "kernelspec": {
   "display_name": "SageMath 9.0",
   "language": "sage",
   "name": "sagemath"
  },
  "language_info": {
   "codemirror_mode": {
    "name": "ipython",
    "version": 3
   },
   "file_extension": ".py",
   "mimetype": "text/x-python",
   "name": "python",
   "nbconvert_exporter": "python",
   "pygments_lexer": "ipython3",
   "version": "3.8.10"
  }
 },
 "nbformat": 4,
 "nbformat_minor": 1
}
